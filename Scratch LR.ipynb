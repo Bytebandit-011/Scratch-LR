{
  "cells": [
    {
      "cell_type": "code",
      "execution_count": 4,
      "metadata": {
        "id": "HsENappVp8zb"
      },
      "outputs": [],
      "source": [
        "import pandas as pd\n",
        "import matplotlib as plt\n",
        "import numpy as np"
      ]
    },
    {
      "cell_type": "code",
      "execution_count": 5,
      "metadata": {
        "colab": {
          "base_uri": "https://localhost:8080/",
          "height": 423
        },
        "id": "rL4gCIXBusSl",
        "outputId": "9281fb2d-f8ea-4d36-9e4a-7743aa1956db"
      },
      "outputs": [
        {
          "data": {
            "text/html": [
              "<div>\n",
              "<style scoped>\n",
              "    .dataframe tbody tr th:only-of-type {\n",
              "        vertical-align: middle;\n",
              "    }\n",
              "\n",
              "    .dataframe tbody tr th {\n",
              "        vertical-align: top;\n",
              "    }\n",
              "\n",
              "    .dataframe thead th {\n",
              "        text-align: right;\n",
              "    }\n",
              "</style>\n",
              "<table border=\"1\" class=\"dataframe\">\n",
              "  <thead>\n",
              "    <tr style=\"text-align: right;\">\n",
              "      <th></th>\n",
              "      <th>StudyTime_hours</th>\n",
              "      <th>Score</th>\n",
              "    </tr>\n",
              "  </thead>\n",
              "  <tbody>\n",
              "    <tr>\n",
              "      <th>0</th>\n",
              "      <td>3.75</td>\n",
              "      <td>66.80</td>\n",
              "    </tr>\n",
              "    <tr>\n",
              "      <th>1</th>\n",
              "      <td>9.51</td>\n",
              "      <td>100.00</td>\n",
              "    </tr>\n",
              "    <tr>\n",
              "      <th>2</th>\n",
              "      <td>7.32</td>\n",
              "      <td>86.25</td>\n",
              "    </tr>\n",
              "    <tr>\n",
              "      <th>3</th>\n",
              "      <td>5.99</td>\n",
              "      <td>68.25</td>\n",
              "    </tr>\n",
              "    <tr>\n",
              "      <th>4</th>\n",
              "      <td>1.56</td>\n",
              "      <td>69.23</td>\n",
              "    </tr>\n",
              "    <tr>\n",
              "      <th>...</th>\n",
              "      <td>...</td>\n",
              "      <td>...</td>\n",
              "    </tr>\n",
              "    <tr>\n",
              "      <th>145</th>\n",
              "      <td>0.37</td>\n",
              "      <td>59.59</td>\n",
              "    </tr>\n",
              "    <tr>\n",
              "      <th>146</th>\n",
              "      <td>6.10</td>\n",
              "      <td>71.21</td>\n",
              "    </tr>\n",
              "    <tr>\n",
              "      <th>147</th>\n",
              "      <td>5.03</td>\n",
              "      <td>74.54</td>\n",
              "    </tr>\n",
              "    <tr>\n",
              "      <th>148</th>\n",
              "      <td>0.51</td>\n",
              "      <td>20.16</td>\n",
              "    </tr>\n",
              "    <tr>\n",
              "      <th>149</th>\n",
              "      <td>2.79</td>\n",
              "      <td>53.69</td>\n",
              "    </tr>\n",
              "  </tbody>\n",
              "</table>\n",
              "<p>150 rows × 2 columns</p>\n",
              "</div>"
            ],
            "text/plain": [
              "     StudyTime_hours   Score\n",
              "0               3.75   66.80\n",
              "1               9.51  100.00\n",
              "2               7.32   86.25\n",
              "3               5.99   68.25\n",
              "4               1.56   69.23\n",
              "..               ...     ...\n",
              "145             0.37   59.59\n",
              "146             6.10   71.21\n",
              "147             5.03   74.54\n",
              "148             0.51   20.16\n",
              "149             2.79   53.69\n",
              "\n",
              "[150 rows x 2 columns]"
            ]
          },
          "execution_count": 5,
          "metadata": {},
          "output_type": "execute_result"
        }
      ],
      "source": [
        "df = pd.read_csv('studytime_score_dataset.csv')\n",
        "df"
      ]
    },
    {
      "cell_type": "code",
      "execution_count": 6,
      "metadata": {
        "id": "GHQr4vCcWoKU"
      },
      "outputs": [],
      "source": [
        "class OwnLR:\n",
        "\n",
        "    def __init__(self):\n",
        "        self.m = None\n",
        "        self.b = None\n",
        "\n",
        "    def fit(self,X_train,y_train):\n",
        "\n",
        "        num = 0\n",
        "        den = 0\n",
        "\n",
        "        for i in range(X_train.shape[0]):\n",
        "\n",
        "            num = num + ((X_train[i] - X_train.mean())*(y_train[i] - y_train.mean()))\n",
        "            den = den + ((X_train[i] - X_train.mean())*(X_train[i] - X_train.mean()))\n",
        "\n",
        "        self.m = num/den\n",
        "        self.b = y_train.mean() - (self.m * X_train.mean())\n",
        "        print(self.m)\n",
        "        print(self.b)\n",
        "\n",
        "    def predict(self,X_test):\n",
        "\n",
        "        print(X_test)\n",
        "\n",
        "        return self.m * X_test + self.b"
      ]
    },
    {
      "cell_type": "code",
      "execution_count": 7,
      "metadata": {
        "id": "3b6ai8i1WoEu"
      },
      "outputs": [],
      "source": [
        "X = df.iloc[:,0].values\n",
        "y = df.iloc[:,1].values"
      ]
    },
    {
      "cell_type": "code",
      "execution_count": 8,
      "metadata": {
        "colab": {
          "base_uri": "https://localhost:8080/"
        },
        "id": "5olYyDNDWoB3",
        "outputId": "2e80c800-1bcf-4872-ed87-246b22887a8b"
      },
      "outputs": [
        {
          "data": {
            "text/plain": [
              "array([3.75, 9.51, 7.32, 5.99, 1.56, 1.56, 0.58, 8.66, 6.01, 7.08, 0.21,\n",
              "       9.7 , 8.32, 2.12, 1.82, 1.83, 3.04, 5.25, 4.32, 2.91, 6.12, 1.39,\n",
              "       2.92, 3.66, 4.56, 7.85, 2.  , 5.14, 5.92, 0.46, 6.08, 1.71, 0.65,\n",
              "       9.49, 9.66, 8.08, 3.05, 0.98, 6.84, 4.4 , 1.22, 4.95, 0.34, 9.09,\n",
              "       2.59, 6.63, 3.12, 5.2 , 5.47, 1.85, 9.7 , 7.75, 9.39, 8.95, 5.98,\n",
              "       9.22, 0.88, 1.96, 0.45, 3.25, 3.89, 2.71, 8.29, 3.57, 2.81, 5.43,\n",
              "       1.41, 8.02, 0.75, 9.87, 7.72, 1.99, 0.06, 8.15, 7.07, 7.29, 7.71,\n",
              "       0.74, 3.58, 1.16, 8.63, 6.23, 3.31, 0.64, 3.11, 3.25, 7.3 , 6.38,\n",
              "       8.87, 4.72, 1.2 , 7.13, 7.61, 5.61, 7.71, 4.94, 5.23, 4.28, 0.25,\n",
              "       1.08, 0.31, 6.36, 3.14, 5.09, 9.08, 2.49, 4.1 , 7.56, 2.29, 0.77,\n",
              "       2.9 , 1.61, 9.3 , 8.08, 6.33, 8.71, 8.04, 1.87, 8.93, 5.39, 8.07,\n",
              "       8.96, 3.18, 1.1 , 2.28, 4.27, 8.18, 8.61, 0.07, 5.11, 4.17, 2.22,\n",
              "       1.2 , 3.38, 9.43, 3.23, 5.19, 7.03, 3.64, 9.72, 9.62, 2.52, 4.97,\n",
              "       3.01, 2.85, 0.37, 6.1 , 5.03, 0.51, 2.79])"
            ]
          },
          "execution_count": 8,
          "metadata": {},
          "output_type": "execute_result"
        }
      ],
      "source": [
        "X"
      ]
    },
    {
      "cell_type": "code",
      "execution_count": 9,
      "metadata": {
        "id": "1RoeMOMZct23"
      },
      "outputs": [],
      "source": [
        "from sklearn.model_selection import train_test_split\n",
        "X_train,X_test,y_train,y_test = train_test_split(X,y,test_size=0.2,random_state=2)"
      ]
    },
    {
      "cell_type": "code",
      "execution_count": 10,
      "metadata": {
        "id": "Xim7HmoEcv1D"
      },
      "outputs": [],
      "source": [
        "lr = OwnLR()"
      ]
    },
    {
      "cell_type": "code",
      "execution_count": 11,
      "metadata": {
        "colab": {
          "base_uri": "https://localhost:8080/"
        },
        "id": "jxDtwqdDczHs",
        "outputId": "5a2a8957-0077-47a4-938c-64a80c5f5db3"
      },
      "outputs": [
        {
          "name": "stdout",
          "output_type": "stream",
          "text": [
            "5.029946726428946\n",
            "49.037938532659794\n"
          ]
        }
      ],
      "source": [
        "lr.fit(X_train,y_train)"
      ]
    },
    {
      "cell_type": "code",
      "execution_count": 12,
      "metadata": {
        "colab": {
          "base_uri": "https://localhost:8080/"
        },
        "id": "Q7htDMRkdF7d",
        "outputId": "5c01b969-4599-4cf0-99d4-5ed63bfd2b93"
      },
      "outputs": [
        {
          "data": {
            "text/plain": [
              "np.float64(8.18)"
            ]
          },
          "execution_count": 12,
          "metadata": {},
          "output_type": "execute_result"
        }
      ],
      "source": [
        "X_train[0]"
      ]
    },
    {
      "cell_type": "code",
      "execution_count": 13,
      "metadata": {
        "colab": {
          "base_uri": "https://localhost:8080/"
        },
        "id": "eI1TzGYGdIXI",
        "outputId": "0f93bc6f-4edf-46f9-9f05-81ff4d7dca9c"
      },
      "outputs": [
        {
          "data": {
            "text/plain": [
              "np.float64(4.6965)"
            ]
          },
          "execution_count": 13,
          "metadata": {},
          "output_type": "execute_result"
        }
      ],
      "source": [
        "X_train.mean()"
      ]
    },
    {
      "cell_type": "code",
      "execution_count": 14,
      "metadata": {
        "colab": {
          "base_uri": "https://localhost:8080/"
        },
        "id": "zisyYxSJdMxr",
        "outputId": "a62d86ae-f82d-439e-d8c6-c81e1b495380"
      },
      "outputs": [
        {
          "data": {
            "text/plain": [
              "np.float64(0.58)"
            ]
          },
          "execution_count": 14,
          "metadata": {},
          "output_type": "execute_result"
        }
      ],
      "source": [
        "X_test[0]"
      ]
    },
    {
      "cell_type": "code",
      "execution_count": 15,
      "metadata": {
        "colab": {
          "base_uri": "https://localhost:8080/"
        },
        "id": "V3mCJxmMdPwZ",
        "outputId": "90576e40-af1e-4666-dad6-4983bbacd732"
      },
      "outputs": [
        {
          "name": "stdout",
          "output_type": "stream",
          "text": [
            "0.58\n",
            "51.95530763398858\n"
          ]
        }
      ],
      "source": [
        "print(lr.predict(X_test[0]))"
      ]
    },
    {
      "cell_type": "code",
      "execution_count": null,
      "metadata": {
        "id": "Ol24OUOfdRMp"
      },
      "outputs": [],
      "source": []
    }
  ],
  "metadata": {
    "colab": {
      "provenance": []
    },
    "kernelspec": {
      "display_name": "Python 3",
      "name": "python3"
    },
    "language_info": {
      "codemirror_mode": {
        "name": "ipython",
        "version": 3
      },
      "file_extension": ".py",
      "mimetype": "text/x-python",
      "name": "python",
      "nbconvert_exporter": "python",
      "pygments_lexer": "ipython3",
      "version": "3.12.0"
    }
  },
  "nbformat": 4,
  "nbformat_minor": 0
}
